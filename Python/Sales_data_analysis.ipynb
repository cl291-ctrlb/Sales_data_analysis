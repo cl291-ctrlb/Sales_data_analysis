{
 "cells": [
  {
   "cell_type": "markdown",
   "id": "17f0cd72-d64a-4ba5-b8c5-983ea2c394f1",
   "metadata": {},
   "source": [
    "# Importing all the relevant library"
   ]
  },
  {
   "cell_type": "markdown",
   "id": "c87dec08-c223-4489-a618-b11c8621ffd0",
   "metadata": {},
   "source": [
    "//# ka baad space dena to give bold"
   ]
  },
  {
   "cell_type": "code",
   "execution_count": null,
   "id": "d26b61e1-2e7f-4fbf-9073-df87ad622aaf",
   "metadata": {},
   "outputs": [],
   "source": []
  }
 ],
 "metadata": {
  "kernelspec": {
   "display_name": "Python 3 (ipykernel)",
   "language": "python",
   "name": "python3"
  },
  "language_info": {
   "codemirror_mode": {
    "name": "ipython",
    "version": 3
   },
   "file_extension": ".py",
   "mimetype": "text/x-python",
   "name": "python",
   "nbconvert_exporter": "python",
   "pygments_lexer": "ipython3",
   "version": "3.12.7"
  }
 },
 "nbformat": 4,
 "nbformat_minor": 5
}
